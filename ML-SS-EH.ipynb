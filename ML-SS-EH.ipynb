{
 "cells": [
  {
   "cell_type": "code",
   "execution_count": 1,
   "metadata": {},
   "outputs": [],
   "source": [
    "# Simulation Parameters\n",
    "T = 100  # Time span for one slot 100ms\n",
    "mu = 0.02   # Sensing duration ratio \n",
    "P1 = 0.5    # Probability of spectrum occupancy\n",
    "Pd = 0.9    # Probability of detection\n",
    "Pf = 0.1    # Probability of false alarm\n",
    "m = 20      # Battery capacity\n",
    "Eh = 0.1    # Harvested energy during one slot \n",
    "Pw = -60    # Primary signal power in dBm\n",
    "Nw = -70    # Noise power in dBm\n",
    "g = 10**-5\n"
   ]
  }
 ],
 "metadata": {
  "kernelspec": {
   "display_name": "SS",
   "language": "python",
   "name": "python3"
  },
  "language_info": {
   "codemirror_mode": {
    "name": "ipython",
    "version": 3
   },
   "file_extension": ".py",
   "mimetype": "text/x-python",
   "name": "python",
   "nbconvert_exporter": "python",
   "pygments_lexer": "ipython3",
   "version": "3.10.9"
  },
  "orig_nbformat": 4
 },
 "nbformat": 4,
 "nbformat_minor": 2
}
