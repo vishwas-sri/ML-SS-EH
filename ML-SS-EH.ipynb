{
 "cells": [
  {
   "attachments": {},
   "cell_type": "markdown",
   "metadata": {},
   "source": [
    "Neccessory Library"
   ]
  },
  {
   "cell_type": "code",
   "execution_count": 1,
   "metadata": {},
   "outputs": [],
   "source": [
    "import numpy as np\n"
   ]
  },
  {
   "attachments": {},
   "cell_type": "markdown",
   "metadata": {},
   "source": [
    "Simulation parameter"
   ]
  },
  {
   "cell_type": "code",
   "execution_count": 13,
   "metadata": {},
   "outputs": [],
   "source": [
    "# Simulation Parameters\n",
    "# T = 100  # Time span for one slot 100ms\n",
    "# mu = 0.02   # Sensing duration ratio\n",
    "# t = mu*T    # Sensing time\n",
    "PU = 1       # No. of PU\n",
    "SU = 3       # No. of SU\n",
    "Pr = 0.5    # Probability of spectrum occupancy\n",
    "# Pd = 0.9    # Probability of detection\n",
    "# Pf = 0.1    # Probability of false alarm\n",
    "m = np.full(SU, 20)      # Battery capacity\n",
    "Eh = 0.1    # Harvested energy during one slot\n",
    "# Pw = -60    # Primary signal power in dBm\n",
    "# PowerTx = 10**(Pw/10)  # Transmitted power\n",
    "# Nw = -70    # Noise power in dBm\n",
    "# PowerNo = 10**(Nw/10)\n",
    "# g = 10**-5  # Path loss coefficeint 10^(-5)\n",
    "# d = 500 # PU-SU distance in meters\n",
    "samples = 100 # No. of sample per sensing time\n",
    "# w = 5e6     # Bandwidth\n",
    "# samples = 50  # No. of sample\n",
    "# N = SU\n",
    "realize = 250\n",
    "realize_test = 5000"
   ]
  },
  {
   "attachments": {},
   "cell_type": "markdown",
   "metadata": {},
   "source": [
    "Monte Carlo Simulation"
   ]
  },
  {
   "cell_type": "code",
   "execution_count": 10,
   "metadata": {},
   "outputs": [],
   "source": [
    "import numpy as np\n",
    "variance = 2\n",
    "T = 100  # Time span for one slot 100ms\n",
    "mu = 0.02   # Sensing duration ratio\n",
    "t = mu*T     # Sensing time\n",
    "Pr = 0.5    # Probability of spectrum occupancy\n",
    "PowerTx = 10**(Pw/10)  # Transmitted power\n",
    "Nw = -70    # Noise power in dBm\n",
    "PowerNo = 10**(Nw/10)\n",
    "g = 10**-5  # Path loss coefficeint 10^(-5)\n",
    "d = 500 # PU-SU distance in meters\n",
    "\n",
    "def MCS(realize,samples,SU):\n",
    "    Y = np.zeros((realize, SU))\n",
    "    S = np.zeros((realize))\n",
    "\n",
    "    noisePower= PowerNo*np.ones(SU)\n",
    "\n",
    "    for k in range(realize):\n",
    "        n = gaussianNoise(noisePower,samples)\n",
    "        H = channel(SU,d,g,variance,samples)                               \n",
    "        X, S[k] = PUtx(samples,PowerTx, Pr, SU)\n",
    "        PU=np.multiply(H.T,X)\n",
    "        Z = PU + n\n",
    "        Y[k,:] = np.sum(np.abs(Z)**2,axis=1)/(noisePower[0]*samples)\n",
    "    return Y,S   \n",
    "  \n",
    "\n",
    "def PUtx(samples,TXPower, Pr, N ):\n",
    "    S = 0\n",
    "    X = np.zeros(samples)\n",
    "    if (np.random.rand(1) <= Pr):\n",
    "        S=1\n",
    "        X=np.random.randn(samples) * np.sqrt(TXPower)\n",
    "    X= np.vstack([X]*N)\n",
    "    return [X,S]\n",
    "\n",
    "def gaussianNoise(noisePower,samples):\n",
    "    N = len(noisePower)\n",
    "    n= np.random.randn(N,samples)  * np.sqrt(noisePower[0])\n",
    "    return n\n",
    "\n",
    "def channel(N,d,g,variance,samples):\n",
    "    H=np.zeros(N)\n",
    "    H=np.sqrt(-2 * variance * np.log(np.random.rand(N)))/np.sqrt(2)\n",
    "    H = np.array(H*np.sqrt(d*(g)))# Fading + path-loss (amplitude loss)\n",
    "    H = np.vstack([H]*samples)\n",
    "    return H"
   ]
  },
  {
   "attachments": {},
   "cell_type": "markdown",
   "metadata": {},
   "source": [
    "Dataset generation"
   ]
  },
  {
   "cell_type": "code",
   "execution_count": 15,
   "metadata": {},
   "outputs": [],
   "source": [
    "# MCS(realize,samples,SU)\n",
    "X_train, y_train= MCS(realize,samples,SU)\n",
    "X_test, y_test= MCS(realize_test,samples,SU)\n"
   ]
  },
  {
   "cell_type": "code",
   "execution_count": null,
   "metadata": {},
   "outputs": [],
   "source": []
  },
  {
   "attachments": {},
   "cell_type": "markdown",
   "metadata": {},
   "source": [
    "Calculating threshold"
   ]
  },
  {
   "cell_type": "code",
   "execution_count": null,
   "metadata": {},
   "outputs": [],
   "source": [
    "import scipy.special\n",
    "# Calculate the threshold using incomplete gamma function\n",
    "threshold = 2*scipy.special.gammaincinv(samples/2, 1 - Pf) / samples\n",
    "\n",
    "print(\"Threshold:\", threshold)\n"
   ]
  },
  {
   "attachments": {},
   "cell_type": "markdown",
   "metadata": {},
   "source": [
    "Markov Chain"
   ]
  },
  {
   "cell_type": "code",
   "execution_count": null,
   "metadata": {},
   "outputs": [],
   "source": [
    "import numpy as np\n",
    "\n",
    "# Define the transition matrix\n",
    "transition_matrix = np.array([[0.8, 0.2], [0.5, 0.5]])\n",
    "\n",
    "# Solve for the stationary distribution\n",
    "eigenvalues, eigenvectors = np.linalg.eig(transition_matrix.T)\n",
    "stationary_distribution = np.real(\n",
    "    eigenvectors[:, 0] / np.sum(eigenvectors[:, 0]))\n",
    "\n",
    "print(eigenvalues)\n",
    "print(eigenvectors)\n",
    "# Print the steady-state probabilities\n",
    "states = [\"Sunny\", \"Rainy\"]\n",
    "for state, probability in zip(states, stationary_distribution):\n",
    "    print(f\"Steady-state probability of {state}: {probability:.3f}\")\n"
   ]
  },
  {
   "attachments": {},
   "cell_type": "markdown",
   "metadata": {},
   "source": [
    "Algorithm"
   ]
  },
  {
   "cell_type": "code",
   "execution_count": 23,
   "metadata": {},
   "outputs": [],
   "source": [
    "import numpy as np\n",
    "from scipy.stats import rayleigh\n",
    "\n",
    "T = 100       # Time span for one slot (100ms)\n",
    "mu = 0.02     # Sensing duration ratio\n",
    "t = mu * T    # Sensing time\n",
    "PU = 1        # No. of PUs\n",
    "SU = 3        # No. of SUs\n",
    "Pr = 0.5      # Probability of spectrum occupancy\n",
    "Pw = -60      # Primary signal power in dBm\n",
    "Nw = -70      # Noise power in dBm\n",
    "g = 10**-5    # Path loss coefficient 10^(-5)\n",
    "training_samples = 250  # No. of samples\n",
    "testing_samples = 5000\n",
    "\n",
    "# X_train = np.zeros((training_samples, SU))   # Array to store received signal energy at SUs\n",
    "# y_train = np.zeros((training_samples,))      # Array to store PU availability\n",
    "\n",
    "# X_test = np.zeros((testing_samples, SU))   # Array to store received signal energy at SUs\n",
    "# y_test = np.zeros((testing_samples,))      # Array to store PU availability\n",
    "\n",
    "def dataset_gen(samples):\n",
    "    dataset_X = np.zeros((samples, SU))   # Array to store received signal energy at SUs\n",
    "    dataset_y = np.zeros((samples,))\n",
    "    for i in range(samples):\n",
    "    # Generate random PU availability (0 or 1)\n",
    "        dataset_y[i] = np.random.choice([0, 1], p=[1 - Pr, Pr])\n",
    "    \n",
    "        if dataset_y[i] == 1:\n",
    "        # Calculate received signal energy at SUs for available PU\n",
    "            for j in range(SU):\n",
    "                # Generate Rayleigh-distributed channel gain\n",
    "                h = rayleigh.rvs(scale=np.sqrt(g/2))\n",
    "                \n",
    "                # Calculate received signal energy\n",
    "                received_signal_energy = 10**(0.1 * (Pw + 10 * np.log10(h)))\n",
    "                \n",
    "                # Add AWGN noise\n",
    "                noise_power = 10**(0.1 * Nw)\n",
    "                received_signal_energy += np.random.normal(0, np.sqrt(noise_power))\n",
    "                \n",
    "                dataset_X[i, j] = received_signal_energy\n",
    "    return dataset_X, dataset_y\n",
    "\n",
    "X_train, y_train = dataset_gen(samples=training_samples)\n",
    "# X_test, y_test = dataset_gen(samples=testing_samples)\n",
    "\n"
   ]
  },
  {
   "cell_type": "code",
   "execution_count": 22,
   "metadata": {},
   "outputs": [
    {
     "data": {
      "text/plain": [
       "-0.00023012078530997671"
      ]
     },
     "execution_count": 22,
     "metadata": {},
     "output_type": "execute_result"
    }
   ],
   "source": [
    "noise_power = 10**(0.1 * Nw)\n",
    "np.random.normal(0, np.sqrt(noise_power))"
   ]
  },
  {
   "cell_type": "code",
   "execution_count": 27,
   "metadata": {},
   "outputs": [
    {
     "name": "stdout",
     "output_type": "stream",
     "text": [
      "[1. 0. 1. 1. 0. 1. 1. 1. 1. 1.]\n",
      "[ 9.12647446e-05  9.45454742e-05  7.64527775e-05  8.07886568e-04\n",
      " -2.33480817e-04  4.87515574e-04 -2.69050808e-04 -1.82978582e-04\n",
      " -7.03164595e-04  2.00604554e-04]\n"
     ]
    }
   ],
   "source": [
    "test = np.zeros((10))\n",
    "result = np.zeros((10))\n",
    "noise_power = 10**(0.1 * Nw)\n",
    "PowerTx = 10**(0.1 * Pw)\n",
    "# n = np.random.randn() * np.sqrt(noise_power)\n",
    "for i in range(10):\n",
    "    test[i] = np.random.choice([0, 1], p=[1 - Pr, Pr])\n",
    "    n = np.random.randn() * np.sqrt(noise_power)\n",
    "    if test[i] == 1:\n",
    "        h = rayleigh.rvs(scale=np.sqrt(g/2))\n",
    "        x = np.random.randn(1) * np.sqrt(PowerTx)\n",
    "        y = h*x+n\n",
    "        result[i]=y\n",
    "    else:\n",
    "        y = n\n",
    "        result[i]=y\n",
    "        \n",
    "print(test)\n",
    "print(result)"
   ]
  },
  {
   "cell_type": "code",
   "execution_count": 6,
   "metadata": {},
   "outputs": [
    {
     "data": {
      "image/png": "[encoded data removed]",
      "text/plain": [
       "<Figure size 640x480 with 1 Axes>"
      ]
     },
     "metadata": {},
     "output_type": "display_data"
    }
   ],
   "source": [
    "import numpy as np\n",
    "import matplotlib.pyplot as plt\n",
    "from sklearn import svm, metrics\n",
    "\n",
    "# Create SVM classifier with linear kernel\n",
    "clf = svm.SVC(kernel='linear')\n",
    "\n",
    "# Train the model using the training data\n",
    "clf.fit(X_train, y_train)\n",
    "\n",
    "# Make predictions on the test data\n",
    "y_pred = clf.predict(X_test)\n",
    "\n",
    "fpr, tpr, thresholds = metrics.roc_curve(y_test, y_pred)\n",
    "\n",
    "auc = metrics.auc(fpr, tpr)\n",
    "\n",
    "plt.plot(fpr, tpr, label='ROC curve (AUC = %0.2f)' % auc)\n",
    "plt.plot([0, 1], [0, 1], 'k--')  # Plot the diagonal line (random classifier)\n",
    "plt.xlabel('False Positive Rate (Pf)')\n",
    "plt.ylabel('True Positive Rate (Pd)')\n",
    "plt.title('Receiver Operating Characteristic (ROC) Curve')\n",
    "plt.legend(loc='lower right')\n",
    "plt.show()\n"
   ]
  },
  {
   "attachments": {},
   "cell_type": "markdown",
   "metadata": {},
   "source": [
    "Classification"
   ]
  },
  {
   "cell_type": "code",
   "execution_count": null,
   "metadata": {},
   "outputs": [],
   "source": [
    "\n",
    "plt.plot(fpr,tpr)"
   ]
  },
  {
   "cell_type": "code",
   "execution_count": null,
   "metadata": {},
   "outputs": [],
   "source": [
    "import numpy as np\n",
    "import matplotlib.pyplot as plt\n",
    "from sklearn import metrics\n",
    "\n",
    "# Assuming you have the FPR and TPR values for the ROC curve\n",
    "fpr = [0.0, 0.1, 0.2, 0.3, 0.4, 0.5]  # False Positive Rate\n",
    "tpr = [0.0, 0.3, 0.5, 0.7, 0.9, 1.0]  # True Positive Rate\n",
    "\n",
    "# Plotting the ROC curve\n",
    "plt.plot(fpr, tpr, label='ROC Curve')\n",
    "plt.xlabel('False Positive Rate (Pf)')\n",
    "plt.ylabel('True Positive Rate (Pd)')\n",
    "plt.title('Receiver Operating Characteristic (ROC) Curve')\n",
    "plt.legend()\n",
    "plt.show()\n",
    "\n",
    "# Selecting the desired operating point\n",
    "operating_point_index = 2  # Index of the desired point on the curve\n",
    "\n",
    "# Calculating Pf and Pd\n",
    "pf = fpr[operating_point_index]\n",
    "pd = tpr[operating_point_index]\n",
    "\n",
    "# Output the results\n",
    "print(\"Pf:\", pf)\n",
    "print(\"Pd:\", pd)\n"
   ]
  },
  {
   "cell_type": "code",
   "execution_count": null,
   "metadata": {},
   "outputs": [],
   "source": []
  }
 ],
 "metadata": {
  "kernelspec": {
   "display_name": "SS",
   "language": "python",
   "name": "python3"
  },
  "language_info": {
   "codemirror_mode": {
    "name": "ipython",
    "version": 3
   },
   "file_extension": ".py",
   "mimetype": "text/x-python",
   "name": "python",
   "nbconvert_exporter": "python",
   "pygments_lexer": "ipython3",
   "version": "3.10.9"
  },
  "orig_nbformat": 4
 },
 "nbformat": 4,
 "nbformat_minor": 2
}
